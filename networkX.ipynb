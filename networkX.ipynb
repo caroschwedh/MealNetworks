{
 "cells": [
  {
   "cell_type": "markdown",
   "metadata": {},
   "source": [
    "# PEAS Meal Networks Analysis"
   ]
  },
  {
   "cell_type": "markdown",
   "metadata": {},
   "source": [
    "# Set up\n",
    "This notebook requires several modules. If you do not have them run the cell below, else skip"
   ]
  },
  {
   "cell_type": "code",
   "execution_count": 2,
   "metadata": {},
   "outputs": [
    {
     "name": "stdout",
     "output_type": "stream",
     "text": [
      "Collecting python-louvain\n",
      "  Downloading https://files.pythonhosted.org/packages/96/b2/c74bb9023c8d4bf94f5049e3d705b3064c6f180a38d772055d20ba5a8d06/python-louvain-0.13.tar.gz\n",
      "Requirement already satisfied: networkx in c:\\users\\schwedhelmramc2\\appdata\\local\\continuum\\anaconda3\\lib\\site-packages (from python-louvain) (2.3)\n",
      "Requirement already satisfied: decorator>=4.3.0 in c:\\users\\schwedhelmramc2\\appdata\\local\\continuum\\anaconda3\\lib\\site-packages (from networkx->python-louvain) (4.4.0)\n",
      "Building wheels for collected packages: python-louvain\n",
      "  Building wheel for python-louvain (setup.py): started\n",
      "  Building wheel for python-louvain (setup.py): finished with status 'done'\n",
      "  Stored in directory: C:\\Users\\schwedhelmramc2\\AppData\\Local\\pip\\Cache\\wheels\\f9\\74\\a9\\14f051b00dddd46d71529db15507796da13a43ee2c0bc39def\n",
      "Successfully built python-louvain\n",
      "Installing collected packages: python-louvain\n",
      "Successfully installed python-louvain-0.13\n"
     ]
    }
   ],
   "source": [
    "#! pip install python-louvain \n",
    "# <this is for the community module I don't know why it isn't called community>\n",
    "# use this style within a cell to install modules ignore things in <>\n",
    "# uncomment if this is needed, if you don't have sudo use --user at the end"
   ]
  },
  {
   "cell_type": "markdown",
   "metadata": {},
   "source": [
    "## Load in the necessary libraries/packages/modules"
   ]
  },
  {
   "cell_type": "code",
   "execution_count": 3,
   "metadata": {},
   "outputs": [],
   "source": [
    "import os\n",
    "import networkx as nx\n",
    "import numpy as np\n",
    "import pandas as pd\n",
    "import community\n",
    "import pdb\n",
    "import matplotlib\n",
    "matplotlib.use(\"Qt5Agg\")\n",
    "import matplotlib.pyplot as plt"
   ]
  },
  {
   "cell_type": "markdown",
   "metadata": {},
   "source": [
    "## Read in the data"
   ]
  },
  {
   "cell_type": "markdown",
   "metadata": {},
   "source": [
    "This is assuming we only have a single dataset, we will want to read in many I assume. You will need to change this to the path on your machine."
   ]
  },
  {
   "cell_type": "code",
   "execution_count": 4,
   "metadata": {},
   "outputs": [
    {
     "data": {
      "text/html": [
       "<div>\n",
       "<style scoped>\n",
       "    .dataframe tbody tr th:only-of-type {\n",
       "        vertical-align: middle;\n",
       "    }\n",
       "\n",
       "    .dataframe tbody tr th {\n",
       "        vertical-align: top;\n",
       "    }\n",
       "\n",
       "    .dataframe thead th {\n",
       "        text-align: right;\n",
       "    }\n",
       "</style>\n",
       "<table border=\"1\" class=\"dataframe\">\n",
       "  <thead>\n",
       "    <tr style=\"text-align: right;\">\n",
       "      <th></th>\n",
       "      <th>Milk_drinks</th>\n",
       "      <th>Milk_desserts</th>\n",
       "      <th>Cheese</th>\n",
       "      <th>Poultry</th>\n",
       "      <th>Fish_shellfish</th>\n",
       "      <th>Meat</th>\n",
       "      <th>Cured_meat</th>\n",
       "      <th>Eggs</th>\n",
       "      <th>Legumes_nuts_seeds</th>\n",
       "      <th>Breads_refined</th>\n",
       "      <th>...</th>\n",
       "      <th>Other_vegetables</th>\n",
       "      <th>Solid_fats</th>\n",
       "      <th>Oils</th>\n",
       "      <th>Salad_dressings</th>\n",
       "      <th>Soups</th>\n",
       "      <th>Sauces_condiments</th>\n",
       "      <th>Sugars_sweets</th>\n",
       "      <th>Coffee_tea</th>\n",
       "      <th>Sugar_sweetened_drinks</th>\n",
       "      <th>Water</th>\n",
       "    </tr>\n",
       "  </thead>\n",
       "  <tbody>\n",
       "    <tr>\n",
       "      <th>Milk_drinks</th>\n",
       "      <td>0.000000</td>\n",
       "      <td>0</td>\n",
       "      <td>0.0</td>\n",
       "      <td>-0.170444</td>\n",
       "      <td>0.0</td>\n",
       "      <td>0.000000</td>\n",
       "      <td>-0.202074</td>\n",
       "      <td>0.000000</td>\n",
       "      <td>0.0</td>\n",
       "      <td>-0.278492</td>\n",
       "      <td>...</td>\n",
       "      <td>0.0</td>\n",
       "      <td>0.000000</td>\n",
       "      <td>0.0</td>\n",
       "      <td>0.0</td>\n",
       "      <td>0.000000</td>\n",
       "      <td>0.0</td>\n",
       "      <td>0.0</td>\n",
       "      <td>0.0</td>\n",
       "      <td>-0.237985</td>\n",
       "      <td>0.0</td>\n",
       "    </tr>\n",
       "    <tr>\n",
       "      <th>Milk_desserts</th>\n",
       "      <td>0.000000</td>\n",
       "      <td>0</td>\n",
       "      <td>0.0</td>\n",
       "      <td>0.000000</td>\n",
       "      <td>0.0</td>\n",
       "      <td>0.000000</td>\n",
       "      <td>0.000000</td>\n",
       "      <td>0.000000</td>\n",
       "      <td>0.0</td>\n",
       "      <td>0.000000</td>\n",
       "      <td>...</td>\n",
       "      <td>0.0</td>\n",
       "      <td>0.000000</td>\n",
       "      <td>0.0</td>\n",
       "      <td>0.0</td>\n",
       "      <td>0.000000</td>\n",
       "      <td>0.0</td>\n",
       "      <td>0.0</td>\n",
       "      <td>0.0</td>\n",
       "      <td>0.000000</td>\n",
       "      <td>0.0</td>\n",
       "    </tr>\n",
       "    <tr>\n",
       "      <th>Cheese</th>\n",
       "      <td>0.000000</td>\n",
       "      <td>0</td>\n",
       "      <td>0.0</td>\n",
       "      <td>0.000000</td>\n",
       "      <td>0.0</td>\n",
       "      <td>0.351887</td>\n",
       "      <td>0.299970</td>\n",
       "      <td>0.416349</td>\n",
       "      <td>0.0</td>\n",
       "      <td>0.405133</td>\n",
       "      <td>...</td>\n",
       "      <td>0.0</td>\n",
       "      <td>0.335693</td>\n",
       "      <td>0.0</td>\n",
       "      <td>0.0</td>\n",
       "      <td>0.000000</td>\n",
       "      <td>0.0</td>\n",
       "      <td>0.0</td>\n",
       "      <td>0.0</td>\n",
       "      <td>0.000000</td>\n",
       "      <td>0.0</td>\n",
       "    </tr>\n",
       "    <tr>\n",
       "      <th>Poultry</th>\n",
       "      <td>-0.170444</td>\n",
       "      <td>0</td>\n",
       "      <td>0.0</td>\n",
       "      <td>0.000000</td>\n",
       "      <td>0.0</td>\n",
       "      <td>0.000000</td>\n",
       "      <td>0.000000</td>\n",
       "      <td>0.000000</td>\n",
       "      <td>0.0</td>\n",
       "      <td>0.000000</td>\n",
       "      <td>...</td>\n",
       "      <td>0.0</td>\n",
       "      <td>0.184763</td>\n",
       "      <td>0.0</td>\n",
       "      <td>0.0</td>\n",
       "      <td>0.254248</td>\n",
       "      <td>0.0</td>\n",
       "      <td>0.0</td>\n",
       "      <td>0.0</td>\n",
       "      <td>0.000000</td>\n",
       "      <td>0.0</td>\n",
       "    </tr>\n",
       "    <tr>\n",
       "      <th>Fish_shellfish</th>\n",
       "      <td>0.000000</td>\n",
       "      <td>0</td>\n",
       "      <td>0.0</td>\n",
       "      <td>0.000000</td>\n",
       "      <td>0.0</td>\n",
       "      <td>0.000000</td>\n",
       "      <td>0.000000</td>\n",
       "      <td>0.000000</td>\n",
       "      <td>0.0</td>\n",
       "      <td>0.000000</td>\n",
       "      <td>...</td>\n",
       "      <td>0.0</td>\n",
       "      <td>0.000000</td>\n",
       "      <td>0.0</td>\n",
       "      <td>0.0</td>\n",
       "      <td>0.000000</td>\n",
       "      <td>0.0</td>\n",
       "      <td>0.0</td>\n",
       "      <td>0.0</td>\n",
       "      <td>0.000000</td>\n",
       "      <td>0.0</td>\n",
       "    </tr>\n",
       "  </tbody>\n",
       "</table>\n",
       "<p>5 rows × 35 columns</p>\n",
       "</div>"
      ],
      "text/plain": [
       "                Milk_drinks  Milk_desserts  Cheese   Poultry  Fish_shellfish  \\\n",
       "Milk_drinks        0.000000              0     0.0 -0.170444             0.0   \n",
       "Milk_desserts      0.000000              0     0.0  0.000000             0.0   \n",
       "Cheese             0.000000              0     0.0  0.000000             0.0   \n",
       "Poultry           -0.170444              0     0.0  0.000000             0.0   \n",
       "Fish_shellfish     0.000000              0     0.0  0.000000             0.0   \n",
       "\n",
       "                    Meat  Cured_meat      Eggs  Legumes_nuts_seeds  \\\n",
       "Milk_drinks     0.000000   -0.202074  0.000000                 0.0   \n",
       "Milk_desserts   0.000000    0.000000  0.000000                 0.0   \n",
       "Cheese          0.351887    0.299970  0.416349                 0.0   \n",
       "Poultry         0.000000    0.000000  0.000000                 0.0   \n",
       "Fish_shellfish  0.000000    0.000000  0.000000                 0.0   \n",
       "\n",
       "                Breads_refined  ...  Other_vegetables  Solid_fats  Oils  \\\n",
       "Milk_drinks          -0.278492  ...               0.0    0.000000   0.0   \n",
       "Milk_desserts         0.000000  ...               0.0    0.000000   0.0   \n",
       "Cheese                0.405133  ...               0.0    0.335693   0.0   \n",
       "Poultry               0.000000  ...               0.0    0.184763   0.0   \n",
       "Fish_shellfish        0.000000  ...               0.0    0.000000   0.0   \n",
       "\n",
       "                Salad_dressings     Soups  Sauces_condiments  Sugars_sweets  \\\n",
       "Milk_drinks                 0.0  0.000000                0.0            0.0   \n",
       "Milk_desserts               0.0  0.000000                0.0            0.0   \n",
       "Cheese                      0.0  0.000000                0.0            0.0   \n",
       "Poultry                     0.0  0.254248                0.0            0.0   \n",
       "Fish_shellfish              0.0  0.000000                0.0            0.0   \n",
       "\n",
       "                Coffee_tea  Sugar_sweetened_drinks  Water  \n",
       "Milk_drinks            0.0               -0.237985    0.0  \n",
       "Milk_desserts          0.0                0.000000    0.0  \n",
       "Cheese                 0.0                0.000000    0.0  \n",
       "Poultry                0.0                0.000000    0.0  \n",
       "Fish_shellfish         0.0                0.000000    0.0  \n",
       "\n",
       "[5 rows x 35 columns]"
      ]
     },
     "execution_count": 4,
     "metadata": {},
     "output_type": "execute_result"
    }
   ],
   "source": [
    "PATH = '/Users/schwedhelmramc2/Documents/PEAS data_M1/corrm_PREG_BMI3_OCC1.csv' #change this\n",
    "data =  pd.read_csv(PATH, sep=\",\", \n",
    "                 index_col=0)\n",
    "data.head()"
   ]
  },
  {
   "cell_type": "markdown",
   "metadata": {},
   "source": [
    "## This is making a dictionary with the food options for networkX"
   ]
  },
  {
   "cell_type": "code",
   "execution_count": 5,
   "metadata": {},
   "outputs": [],
   "source": [
    "labels = data.index\n",
    "labels_dict = {}\n",
    "n=0\n",
    "for item in labels:\n",
    "    labels_dict[n]=item\n",
    "    n=n+1"
   ]
  },
  {
   "cell_type": "markdown",
   "metadata": {},
   "source": [
    "# Creating the graph object"
   ]
  },
  {
   "cell_type": "code",
   "execution_count": 6,
   "metadata": {},
   "outputs": [],
   "source": [
    "G = nx.from_numpy_matrix(data.values)"
   ]
  },
  {
   "cell_type": "markdown",
   "metadata": {},
   "source": [
    "## Check edges"
   ]
  },
  {
   "cell_type": "code",
   "execution_count": 7,
   "metadata": {},
   "outputs": [
    {
     "data": {
      "text/plain": [
       "EdgeDataView([(0, 3, {'weight': -0.170444285852678}), (0, 6, {'weight': -0.20207405041606002}), (0, 9, {'weight': -0.27849234895158}), (0, 16, {'weight': -0.189991629009482}), (0, 17, {'weight': 0.527925370830988}), (0, 18, {'weight': 0.301348514587411}), (0, 19, {'weight': -0.255152491656561}), (0, 22, {'weight': -0.18926449607202303}), (0, 33, {'weight': -0.237984866191845}), (2, 5, {'weight': 0.351886777316941}), (2, 6, {'weight': 0.299969852648754}), (2, 7, {'weight': 0.416348567945039}), (2, 9, {'weight': 0.405132613024851}), (2, 26, {'weight': 0.33569275571571605}), (3, 21, {'weight': 0.181467314133878}), (3, 26, {'weight': 0.184763224103719}), (3, 29, {'weight': 0.25424819812924}), (4, 16, {'weight': 0.381874793788797}), (4, 24, {'weight': 0.44264040316396797}), (5, 7, {'weight': 0.351248050813901}), (5, 12, {'weight': 0.24592059452427698}), (5, 16, {'weight': 0.20264627442495498}), (5, 26, {'weight': 0.22934914817847799}), (6, 7, {'weight': 0.19880474993242003}), (6, 9, {'weight': 0.297189944272784}), (6, 19, {'weight': 0.18881984880770802}), (6, 28, {'weight': 0.21373372419568804}), (7, 10, {'weight': 0.271581363249384}), (7, 26, {'weight': 0.427943897313601}), (7, 32, {'weight': 0.27688017344142196}), (8, 10, {'weight': 0.298051206253818}), (8, 20, {'weight': 0.18385891958930303}), (9, 10, {'weight': -0.205472269454291}), (9, 17, {'weight': -0.22025586523436103}), (9, 18, {'weight': -0.20546576920488197}), (9, 26, {'weight': 0.288613050605359}), (10, 17, {'weight': -0.17101166569483803}), (10, 27, {'weight': 0.21782200261309803}), (10, 31, {'weight': 0.192639863945908}), (12, 26, {'weight': 0.222728224939671}), (12, 31, {'weight': 0.54166551199911}), (13, 20, {'weight': 0.174438933228037}), (13, 23, {'weight': 0.468231044176908}), (13, 29, {'weight': 0.194262457425468}), (14, 22, {'weight': 0.6100677007555}), (17, 18, {'weight': -0.171006249717276}), (17, 26, {'weight': -0.24589335677743104}), (17, 31, {'weight': -0.232511013531705}), (17, 32, {'weight': -0.17769197358033703}), (18, 19, {'weight': -0.19337767427560396}), (18, 26, {'weight': -0.18355225896591199}), (19, 26, {'weight': 0.207113414448965}), (20, 23, {'weight': 0.185251479848378}), (20, 34, {'weight': 0.205879597602073}), (21, 25, {'weight': 0.287970002834824}), (21, 29, {'weight': 0.23402780722134103}), (22, 32, {'weight': 0.185346268101843}), (23, 24, {'weight': 0.328544924579441}), (23, 25, {'weight': 0.21360183808248498}), (23, 28, {'weight': 0.253358112743367}), (23, 34, {'weight': 0.17972178286918902}), (24, 27, {'weight': 0.38421052310398707}), (24, 28, {'weight': 0.20680000569107504}), (25, 26, {'weight': 0.20585474126999698}), (25, 28, {'weight': 0.29354568233580797}), (26, 31, {'weight': 0.216612825276151}), (29, 32, {'weight': 0.532874262573013}), (30, 33, {'weight': 0.20853483547261})])"
      ]
     },
     "execution_count": 7,
     "metadata": {},
     "output_type": "execute_result"
    }
   ],
   "source": [
    "G.edges(data=True)"
   ]
  },
  {
   "cell_type": "markdown",
   "metadata": {},
   "source": [
    "## Set node attributes with the food data"
   ]
  },
  {
   "cell_type": "code",
   "execution_count": 8,
   "metadata": {},
   "outputs": [],
   "source": [
    "nx.set_node_attributes(G,labels_dict,'food')"
   ]
  },
  {
   "cell_type": "markdown",
   "metadata": {},
   "source": [
    "## Check nodes"
   ]
  },
  {
   "cell_type": "code",
   "execution_count": 9,
   "metadata": {},
   "outputs": [
    {
     "data": {
      "text/plain": [
       "NodeDataView({0: {'food': 'Milk_drinks'}, 1: {'food': 'Milk_desserts'}, 2: {'food': 'Cheese'}, 3: {'food': 'Poultry'}, 4: {'food': 'Fish_shellfish'}, 5: {'food': 'Meat'}, 6: {'food': 'Cured_meat'}, 7: {'food': 'Eggs'}, 8: {'food': 'Legumes_nuts_seeds'}, 9: {'food': 'Breads_refined'}, 10: {'food': 'Breads_whole'}, 11: {'food': 'Cakes_cookies'}, 12: {'food': 'Pancakes_other'}, 13: {'food': 'Savory_pies'}, 14: {'food': 'Sandwiches'}, 15: {'food': 'Tortilla_based'}, 16: {'food': 'Pastas_rice'}, 17: {'food': 'Breakfast_cereals_high_sugar'}, 18: {'food': 'Breakfast_cereals_low_sugar'}, 19: {'food': 'Fruit_juice'}, 20: {'food': 'Whole_fruits'}, 21: {'food': 'Potatoes'}, 22: {'food': 'Potatoes_fried'}, 23: {'food': 'DG_vegetables'}, 24: {'food': 'RO_vegetables'}, 25: {'food': 'Other_vegetables'}, 26: {'food': 'Solid_fats'}, 27: {'food': 'Oils'}, 28: {'food': 'Salad_dressings'}, 29: {'food': 'Soups'}, 30: {'food': 'Sauces_condiments'}, 31: {'food': 'Sugars_sweets'}, 32: {'food': 'Coffee_tea'}, 33: {'food': 'Sugar_sweetened_drinks'}, 34: {'food': 'Water'}})"
      ]
     },
     "execution_count": 9,
     "metadata": {},
     "output_type": "execute_result"
    }
   ],
   "source": [
    "G.nodes(data=True)"
   ]
  },
  {
   "cell_type": "markdown",
   "metadata": {},
   "source": [
    "# Make a nice graph\n",
    "The output you made can be made with edge weights using the 'spring' option "
   ]
  },
  {
   "cell_type": "code",
   "execution_count": 10,
   "metadata": {},
   "outputs": [],
   "source": [
    "def create_corr_network(G, *argv):\n",
    "    # creates a list for edges and for the weights\n",
    "    # G must be a networkx graph object\n",
    "    # Style = Choice of graph = circle, spring, spectral\n",
    "    \n",
    "    edges,weights = zip(*nx.get_edge_attributes(G,'weight').items())\n",
    "    \n",
    "    \n",
    "    #positions\n",
    "    if len(argv) != 0:\n",
    "        for arg in argv:\n",
    "            print(\"Making %s graph\"%arg)\n",
    "            if arg == \"circle\":\n",
    "                positions=nx.circular_layout(G)\n",
    "            elif arg == \"spring\":\n",
    "                positions=nx.spring_layout(G)\n",
    "            elif arg == \"spectral\":\n",
    "            \n",
    "                positions=nx.spectral_layout(G)\n",
    "    else:\n",
    "        positions=nx.circular_layout(G)\n",
    "\n",
    "    #Figure size\n",
    "    plt.figure(figsize=(15,15))\n",
    "\n",
    "    #draws nodes\n",
    "    nx.draw_networkx_nodes(G,positions,node_color='#DA70D6',\n",
    "                           node_size=500,alpha=0.8)\n",
    "    labels=dict(G.nodes(data=True))\n",
    "    #Styling for labels\n",
    "    \n",
    "    \n",
    "    nx.draw_networkx_labels(G,positions,labels, font_size=8, \n",
    "                            font_family='sans-serif')\n",
    "        \n",
    "    #draws the edges\n",
    "    vmin = min(weights)\n",
    "    vmax = max(weights)\n",
    "    \n",
    "    w=np.array(weights)*10\n",
    "    nx.draw_networkx_edges(G, positions, edge_list=edges, style='solid', width= w, edge_color= weights, \n",
    "                           edge_cmap=plt.cm.seismic, vmin=vmin, vmax=vmax)\n",
    "    \n",
    "    # displays the graph without axis\n",
    "    plt.axis('off')\n",
    "    #saves image\n",
    "    #plt.savefig(\"part1.png\", format=\"PNG\")\n",
    "    sm = plt.cm.ScalarMappable(cmap=plt.cm.seismic, norm=plt.Normalize(vmin = vmin, vmax=vmax))\n",
    "    sm._A = []\n",
    "    plt.colorbar(sm)\n",
    "    plt.show() "
   ]
  },
  {
   "cell_type": "code",
   "execution_count": 11,
   "metadata": {},
   "outputs": [
    {
     "name": "stdout",
     "output_type": "stream",
     "text": [
      "Making spring graph\n"
     ]
    },
    {
     "name": "stderr",
     "output_type": "stream",
     "text": [
      "C:\\Users\\schwedhelmramc2\\AppData\\Local\\Continuum\\anaconda3\\lib\\site-packages\\networkx\\drawing\\nx_pylab.py:579: MatplotlibDeprecationWarning: \n",
      "The iterable function was deprecated in Matplotlib 3.1 and will be removed in 3.3. Use np.iterable instead.\n",
      "  if not cb.iterable(width):\n",
      "C:\\Users\\schwedhelmramc2\\AppData\\Local\\Continuum\\anaconda3\\lib\\site-packages\\networkx\\drawing\\nx_pylab.py:585: MatplotlibDeprecationWarning: \n",
      "The iterable function was deprecated in Matplotlib 3.1 and will be removed in 3.3. Use np.iterable instead.\n",
      "  and cb.iterable(edge_color) \\\n",
      "C:\\Users\\schwedhelmramc2\\AppData\\Local\\Continuum\\anaconda3\\lib\\site-packages\\networkx\\drawing\\nx_pylab.py:595: MatplotlibDeprecationWarning: \n",
      "The iterable function was deprecated in Matplotlib 3.1 and will be removed in 3.3. Use np.iterable instead.\n",
      "  for c in edge_color]):\n"
     ]
    }
   ],
   "source": [
    "create_corr_network(G, 'spring')"
   ]
  },
  {
   "cell_type": "markdown",
   "metadata": {},
   "source": [
    "# Next steps\n",
    "If you have a regular structure for directories I can write a function that will pick up the csv files and run all of this at once. This is a general tutorial. As we get closer to publication we can make the graphs pretty. The next things to consider are graph metrics. I recommend modularity, participation coefficient, and clustering coefficient. "
   ]
  },
  {
   "cell_type": "code",
   "execution_count": null,
   "metadata": {},
   "outputs": [],
   "source": []
  }
 ],
 "metadata": {
  "kernelspec": {
   "display_name": "Python 3",
   "language": "python",
   "name": "python3"
  },
  "language_info": {
   "codemirror_mode": {
    "name": "ipython",
    "version": 3
   },
   "file_extension": ".py",
   "mimetype": "text/x-python",
   "name": "python",
   "nbconvert_exporter": "python",
   "pygments_lexer": "ipython3",
   "version": "3.7.3"
  }
 },
 "nbformat": 4,
 "nbformat_minor": 2
}
